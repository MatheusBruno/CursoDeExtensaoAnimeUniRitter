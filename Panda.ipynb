{
  "nbformat": 4,
  "nbformat_minor": 0,
  "metadata": {
    "colab": {
      "provenance": [],
      "authorship_tag": "ABX9TyNBs1nvNYbYX5LLJzaKMRjv",
      "include_colab_link": true
    },
    "kernelspec": {
      "name": "python3",
      "display_name": "Python 3"
    },
    "language_info": {
      "name": "python"
    }
  },
  "cells": [
    {
      "cell_type": "markdown",
      "metadata": {
        "id": "view-in-github",
        "colab_type": "text"
      },
      "source": [
        "<a href=\"https://colab.research.google.com/github/MatheusBruno/CursoDeExtensaoAnimeUniRitter/blob/main/Panda.ipynb\" target=\"_parent\"><img src=\"https://colab.research.google.com/assets/colab-badge.svg\" alt=\"Open In Colab\"/></a>"
      ]
    },
    {
      "cell_type": "markdown",
      "source": [
        "Exemplo de manipulação de dados usando Python Pandas\n",
        "Data: 6 de feveiro de 2023\n",
        "\n"
      ],
      "metadata": {
        "id": "vODjbV02UbSQ"
      }
    },
    {
      "cell_type": "code",
      "execution_count": null,
      "metadata": {
        "colab": {
          "base_uri": "https://localhost:8080/"
        },
        "id": "HlFA8Ov2C3nb",
        "outputId": "37e1393a-c756-42d6-ab21-dc49c71d3ca6"
      },
      "outputs": [
        {
          "output_type": "stream",
          "name": "stdout",
          "text": [
            "Hello World!\n"
          ]
        }
      ],
      "source": [
        "#print(\"Hello World!\")"
      ]
    },
    {
      "cell_type": "code",
      "source": [
        "import pandas as pd"
      ],
      "metadata": {
        "id": "6P-9acAnVOJQ"
      },
      "execution_count": 1,
      "outputs": []
    },
    {
      "cell_type": "markdown",
      "source": [
        "print(dicecombustiveis.shape) #mostra o numeros de linhas e colunas(linhas, colunas)"
      ],
      "metadata": {
        "id": "TUE1XVUcJYeh"
      }
    },
    {
      "cell_type": "markdown",
      "source": [],
      "metadata": {
        "id": "RYO62RyyKwzQ"
      }
    },
    {
      "cell_type": "code",
      "source": [],
      "metadata": {
        "id": "XNiot9jkJOpf"
      },
      "execution_count": null,
      "outputs": []
    },
    {
      "cell_type": "markdown",
      "source": [
        "print(dicecombustiveis.describe()) #describe() mostras estatísticas \"mais básicas\" que a gente precisa"
      ],
      "metadata": {
        "id": "Gks5IKdQJ1JZ"
      }
    },
    {
      "cell_type": "code",
      "source": [],
      "metadata": {
        "id": "WHR9uMW_KESZ"
      },
      "execution_count": null,
      "outputs": []
    },
    {
      "cell_type": "markdown",
      "source": [
        "print(dicecombustiveis.info()) #Non-Null(numeros de linhas preenchido) #Dtype()"
      ],
      "metadata": {
        "id": "-qsWDu4NLA9g"
      }
    }
  ]
}